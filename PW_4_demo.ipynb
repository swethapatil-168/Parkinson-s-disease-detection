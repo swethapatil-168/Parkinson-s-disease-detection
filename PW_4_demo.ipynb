{
 "cells": [
  {
   "cell_type": "code",
   "execution_count": 260,
   "metadata": {
    "id": "L8x0sHtACtnq"
   },
   "outputs": [],
   "source": [
    "import numpy as np\n",
    "import pandas as pd\n",
    "import xgboost as xgb\n",
    "from sklearn.model_selection import train_test_split\n",
    "from sklearn.preprocessing import StandardScaler\n",
    "from sklearn import svm\n",
    "from sklearn.svm import SVC\n",
    "from xgboost import XGBClassifier\n",
    "from sklearn.metrics import accuracy_score\n",
    "from sklearn import metrics\n",
    "from sklearn.model_selection import cross_val_score\n",
    "from sklearn.metrics import confusion_matrix\n",
    "from sklearn.metrics import classification_report"
   ]
  },
  {
   "cell_type": "code",
   "execution_count": 261,
   "metadata": {
    "id": "lFOxamzUC2ZM"
   },
   "outputs": [],
   "source": [
    "# loading the data from csv file to a Pandas DataFrame\n",
    "parkinsons_data = pd.read_csv('PD.csv')"
   ]
  },
  {
   "cell_type": "code",
   "execution_count": 262,
   "metadata": {
    "colab": {
     "base_uri": "https://localhost:8080/",
     "height": 369
    },
    "id": "t98mnon3C8j9",
    "outputId": "6f0dbe31-51d8-4f27-db99-eb1929e70d0b"
   },
   "outputs": [
    {
     "data": {
      "text/html": [
       "<div>\n",
       "<style scoped>\n",
       "    .dataframe tbody tr th:only-of-type {\n",
       "        vertical-align: middle;\n",
       "    }\n",
       "\n",
       "    .dataframe tbody tr th {\n",
       "        vertical-align: top;\n",
       "    }\n",
       "\n",
       "    .dataframe thead th {\n",
       "        text-align: right;\n",
       "    }\n",
       "</style>\n",
       "<table border=\"1\" class=\"dataframe\">\n",
       "  <thead>\n",
       "    <tr style=\"text-align: right;\">\n",
       "      <th></th>\n",
       "      <th>subject_id</th>\n",
       "      <th>Jitter(local)</th>\n",
       "      <th>Jitter (local_absolute)</th>\n",
       "      <th>Jitter (rap)</th>\n",
       "      <th>Jitter (ppq5)</th>\n",
       "      <th>Jitter (ddp)</th>\n",
       "      <th>Shimmer (local)</th>\n",
       "      <th>Shimmer (local_dB)</th>\n",
       "      <th>Shimmer (apq3)</th>\n",
       "      <th>Shimmer (apq5)</th>\n",
       "      <th>...</th>\n",
       "      <th>Maximum pitch</th>\n",
       "      <th>Number of pulses</th>\n",
       "      <th>Number of periods</th>\n",
       "      <th>Mean period</th>\n",
       "      <th>Standard deviation of period</th>\n",
       "      <th>Fraction of locally unvoiced frames</th>\n",
       "      <th>Number of voice breaks</th>\n",
       "      <th>Degree of voice breaks\\tstatus</th>\n",
       "      <th>UPDRS</th>\n",
       "      <th>status</th>\n",
       "    </tr>\n",
       "  </thead>\n",
       "  <tbody>\n",
       "    <tr>\n",
       "      <th>0</th>\n",
       "      <td>1</td>\n",
       "      <td>1.488</td>\n",
       "      <td>0.000090</td>\n",
       "      <td>0.900</td>\n",
       "      <td>0.794</td>\n",
       "      <td>2.699</td>\n",
       "      <td>8.334</td>\n",
       "      <td>0.779</td>\n",
       "      <td>4.517</td>\n",
       "      <td>4.609</td>\n",
       "      <td>...</td>\n",
       "      <td>187.576</td>\n",
       "      <td>160</td>\n",
       "      <td>159</td>\n",
       "      <td>0.006065</td>\n",
       "      <td>0.000416</td>\n",
       "      <td>0.000</td>\n",
       "      <td>0</td>\n",
       "      <td>0.000</td>\n",
       "      <td>23</td>\n",
       "      <td>1</td>\n",
       "    </tr>\n",
       "    <tr>\n",
       "      <th>1</th>\n",
       "      <td>1</td>\n",
       "      <td>0.728</td>\n",
       "      <td>0.000038</td>\n",
       "      <td>0.353</td>\n",
       "      <td>0.376</td>\n",
       "      <td>1.059</td>\n",
       "      <td>5.864</td>\n",
       "      <td>0.642</td>\n",
       "      <td>2.058</td>\n",
       "      <td>3.180</td>\n",
       "      <td>...</td>\n",
       "      <td>234.505</td>\n",
       "      <td>170</td>\n",
       "      <td>169</td>\n",
       "      <td>0.005181</td>\n",
       "      <td>0.000403</td>\n",
       "      <td>2.247</td>\n",
       "      <td>0</td>\n",
       "      <td>0.000</td>\n",
       "      <td>23</td>\n",
       "      <td>1</td>\n",
       "    </tr>\n",
       "    <tr>\n",
       "      <th>2</th>\n",
       "      <td>1</td>\n",
       "      <td>1.220</td>\n",
       "      <td>0.000074</td>\n",
       "      <td>0.732</td>\n",
       "      <td>0.670</td>\n",
       "      <td>2.196</td>\n",
       "      <td>8.719</td>\n",
       "      <td>0.875</td>\n",
       "      <td>4.347</td>\n",
       "      <td>5.166</td>\n",
       "      <td>...</td>\n",
       "      <td>211.442</td>\n",
       "      <td>1431</td>\n",
       "      <td>1427</td>\n",
       "      <td>0.006071</td>\n",
       "      <td>0.000474</td>\n",
       "      <td>10.656</td>\n",
       "      <td>1</td>\n",
       "      <td>0.178</td>\n",
       "      <td>23</td>\n",
       "      <td>1</td>\n",
       "    </tr>\n",
       "    <tr>\n",
       "      <th>3</th>\n",
       "      <td>1</td>\n",
       "      <td>2.502</td>\n",
       "      <td>0.000123</td>\n",
       "      <td>1.156</td>\n",
       "      <td>1.634</td>\n",
       "      <td>3.469</td>\n",
       "      <td>13.513</td>\n",
       "      <td>1.273</td>\n",
       "      <td>5.263</td>\n",
       "      <td>8.771</td>\n",
       "      <td>...</td>\n",
       "      <td>220.230</td>\n",
       "      <td>94</td>\n",
       "      <td>92</td>\n",
       "      <td>0.004910</td>\n",
       "      <td>0.000320</td>\n",
       "      <td>0.000</td>\n",
       "      <td>0</td>\n",
       "      <td>0.000</td>\n",
       "      <td>23</td>\n",
       "      <td>1</td>\n",
       "    </tr>\n",
       "    <tr>\n",
       "      <th>4</th>\n",
       "      <td>1</td>\n",
       "      <td>3.509</td>\n",
       "      <td>0.000167</td>\n",
       "      <td>1.715</td>\n",
       "      <td>1.539</td>\n",
       "      <td>5.145</td>\n",
       "      <td>9.112</td>\n",
       "      <td>1.040</td>\n",
       "      <td>3.102</td>\n",
       "      <td>4.927</td>\n",
       "      <td>...</td>\n",
       "      <td>225.162</td>\n",
       "      <td>117</td>\n",
       "      <td>114</td>\n",
       "      <td>0.004757</td>\n",
       "      <td>0.000380</td>\n",
       "      <td>18.182</td>\n",
       "      <td>1</td>\n",
       "      <td>13.318</td>\n",
       "      <td>23</td>\n",
       "      <td>1</td>\n",
       "    </tr>\n",
       "  </tbody>\n",
       "</table>\n",
       "<p>5 rows × 29 columns</p>\n",
       "</div>"
      ],
      "text/plain": [
       "   subject_id  Jitter(local)  Jitter (local_absolute)  Jitter (rap)  \\\n",
       "0           1          1.488                 0.000090         0.900   \n",
       "1           1          0.728                 0.000038         0.353   \n",
       "2           1          1.220                 0.000074         0.732   \n",
       "3           1          2.502                 0.000123         1.156   \n",
       "4           1          3.509                 0.000167         1.715   \n",
       "\n",
       "   Jitter (ppq5)  Jitter (ddp)  Shimmer (local)  Shimmer (local_dB)  \\\n",
       "0          0.794         2.699            8.334               0.779   \n",
       "1          0.376         1.059            5.864               0.642   \n",
       "2          0.670         2.196            8.719               0.875   \n",
       "3          1.634         3.469           13.513               1.273   \n",
       "4          1.539         5.145            9.112               1.040   \n",
       "\n",
       "   Shimmer (apq3)  Shimmer (apq5)  ...  Maximum pitch  Number of pulses  \\\n",
       "0           4.517           4.609  ...        187.576               160   \n",
       "1           2.058           3.180  ...        234.505               170   \n",
       "2           4.347           5.166  ...        211.442              1431   \n",
       "3           5.263           8.771  ...        220.230                94   \n",
       "4           3.102           4.927  ...        225.162               117   \n",
       "\n",
       "   Number of periods  Mean period  Standard deviation of period  \\\n",
       "0                159     0.006065                      0.000416   \n",
       "1                169     0.005181                      0.000403   \n",
       "2               1427     0.006071                      0.000474   \n",
       "3                 92     0.004910                      0.000320   \n",
       "4                114     0.004757                      0.000380   \n",
       "\n",
       "   Fraction of locally unvoiced frames  Number of voice breaks  \\\n",
       "0                                0.000                       0   \n",
       "1                                2.247                       0   \n",
       "2                               10.656                       1   \n",
       "3                                0.000                       0   \n",
       "4                               18.182                       1   \n",
       "\n",
       "   Degree of voice breaks\\tstatus  UPDRS  status  \n",
       "0                           0.000     23       1  \n",
       "1                           0.000     23       1  \n",
       "2                           0.178     23       1  \n",
       "3                           0.000     23       1  \n",
       "4                          13.318     23       1  \n",
       "\n",
       "[5 rows x 29 columns]"
      ]
     },
     "execution_count": 262,
     "metadata": {},
     "output_type": "execute_result"
    }
   ],
   "source": [
    "# printing the first 5 rows of the dataframe\n",
    "parkinsons_data.head()"
   ]
  },
  {
   "cell_type": "code",
   "execution_count": 263,
   "metadata": {
    "colab": {
     "base_uri": "https://localhost:8080/"
    },
    "id": "3y55pWaSC-_y",
    "outputId": "63d4766a-3024-4439-a919-867452f07b18"
   },
   "outputs": [
    {
     "data": {
      "text/plain": [
       "(1040, 29)"
      ]
     },
     "execution_count": 263,
     "metadata": {},
     "output_type": "execute_result"
    }
   ],
   "source": [
    "# number of rows and columns in the dataframe\n",
    "parkinsons_data.shape"
   ]
  },
  {
   "cell_type": "code",
   "execution_count": 264,
   "metadata": {},
   "outputs": [
    {
     "data": {
      "text/plain": [
       "Index(['subject_id', 'Jitter(local)', 'Jitter (local_absolute)',\n",
       "       'Jitter (rap)', 'Jitter (ppq5)', 'Jitter (ddp)', 'Shimmer (local)',\n",
       "       'Shimmer (local_dB)', 'Shimmer (apq3)', 'Shimmer (apq5)',\n",
       "       'Shimmer (apq11)', 'Shimmer (dda)', 'AC', 'NTH', 'HTN', 'Median pitch',\n",
       "       'Mean pitch', 'Standard deviation', 'Minimum pitch', 'Maximum pitch',\n",
       "       'Number of pulses', 'Number of periods', 'Mean period',\n",
       "       'Standard deviation of period', 'Fraction of locally unvoiced frames',\n",
       "       'Number of voice breaks', 'Degree of voice breaks\\tstatus', 'UPDRS',\n",
       "       'status'],\n",
       "      dtype='object')"
      ]
     },
     "execution_count": 264,
     "metadata": {},
     "output_type": "execute_result"
    }
   ],
   "source": [
    "parkinsons_data.columns"
   ]
  },
  {
   "cell_type": "code",
   "execution_count": 265,
   "metadata": {
    "colab": {
     "base_uri": "https://localhost:8080/"
    },
    "id": "_8eUDrKEDCNA",
    "outputId": "e9caf1b4-c4b7-4b60-826e-839785f9c588"
   },
   "outputs": [
    {
     "name": "stdout",
     "output_type": "stream",
     "text": [
      "<class 'pandas.core.frame.DataFrame'>\n",
      "RangeIndex: 1040 entries, 0 to 1039\n",
      "Data columns (total 29 columns):\n",
      " #   Column                               Non-Null Count  Dtype  \n",
      "---  ------                               --------------  -----  \n",
      " 0   subject_id                           1040 non-null   int64  \n",
      " 1   Jitter(local)                        1040 non-null   float64\n",
      " 2   Jitter (local_absolute)              1040 non-null   float64\n",
      " 3   Jitter (rap)                         1040 non-null   float64\n",
      " 4   Jitter (ppq5)                        1040 non-null   float64\n",
      " 5   Jitter (ddp)                         1040 non-null   float64\n",
      " 6   Shimmer (local)                      1040 non-null   float64\n",
      " 7   Shimmer (local_dB)                   1040 non-null   float64\n",
      " 8   Shimmer (apq3)                       1040 non-null   float64\n",
      " 9   Shimmer (apq5)                       1040 non-null   float64\n",
      " 10  Shimmer (apq11)                      1040 non-null   float64\n",
      " 11  Shimmer (dda)                        1040 non-null   float64\n",
      " 12  AC                                   1040 non-null   float64\n",
      " 13  NTH                                  1040 non-null   float64\n",
      " 14  HTN                                  1040 non-null   float64\n",
      " 15  Median pitch                         1040 non-null   float64\n",
      " 16  Mean pitch                           1040 non-null   float64\n",
      " 17  Standard deviation                   1040 non-null   float64\n",
      " 18  Minimum pitch                        1040 non-null   float64\n",
      " 19  Maximum pitch                        1040 non-null   float64\n",
      " 20  Number of pulses                     1040 non-null   int64  \n",
      " 21  Number of periods                    1040 non-null   int64  \n",
      " 22  Mean period                          1040 non-null   float64\n",
      " 23  Standard deviation of period         1040 non-null   float64\n",
      " 24  Fraction of locally unvoiced frames  1040 non-null   float64\n",
      " 25  Number of voice breaks               1040 non-null   int64  \n",
      " 26  Degree of voice breaks\tstatus        1040 non-null   float64\n",
      " 27  UPDRS                                1040 non-null   int64  \n",
      " 28  status                               1040 non-null   int64  \n",
      "dtypes: float64(23), int64(6)\n",
      "memory usage: 235.8 KB\n"
     ]
    }
   ],
   "source": [
    "# getting more information about the dataset\n",
    "parkinsons_data.info()"
   ]
  },
  {
   "cell_type": "code",
   "execution_count": 266,
   "metadata": {
    "colab": {
     "base_uri": "https://localhost:8080/"
    },
    "id": "QrLjNO-PDC4I",
    "outputId": "14652c59-134a-4a87-fa35-de6d7688e892"
   },
   "outputs": [
    {
     "data": {
      "text/plain": [
       "subject_id                             0\n",
       "Jitter(local)                          0\n",
       "Jitter (local_absolute)                0\n",
       "Jitter (rap)                           0\n",
       "Jitter (ppq5)                          0\n",
       "Jitter (ddp)                           0\n",
       "Shimmer (local)                        0\n",
       "Shimmer (local_dB)                     0\n",
       "Shimmer (apq3)                         0\n",
       "Shimmer (apq5)                         0\n",
       "Shimmer (apq11)                        0\n",
       "Shimmer (dda)                          0\n",
       "AC                                     0\n",
       "NTH                                    0\n",
       "HTN                                    0\n",
       "Median pitch                           0\n",
       "Mean pitch                             0\n",
       "Standard deviation                     0\n",
       "Minimum pitch                          0\n",
       "Maximum pitch                          0\n",
       "Number of pulses                       0\n",
       "Number of periods                      0\n",
       "Mean period                            0\n",
       "Standard deviation of period           0\n",
       "Fraction of locally unvoiced frames    0\n",
       "Number of voice breaks                 0\n",
       "Degree of voice breaks\\tstatus         0\n",
       "UPDRS                                  0\n",
       "status                                 0\n",
       "dtype: int64"
      ]
     },
     "execution_count": 266,
     "metadata": {},
     "output_type": "execute_result"
    }
   ],
   "source": [
    "# checking for missing values in each column\n",
    "parkinsons_data.isnull().sum()"
   ]
  },
  {
   "cell_type": "code",
   "execution_count": 267,
   "metadata": {
    "colab": {
     "base_uri": "https://localhost:8080/",
     "height": 446
    },
    "id": "xHPYvnq7DJO3",
    "outputId": "64e7cf38-02ea-4ca3-bff5-9c022d22cbdf"
   },
   "outputs": [
    {
     "data": {
      "text/html": [
       "<div>\n",
       "<style scoped>\n",
       "    .dataframe tbody tr th:only-of-type {\n",
       "        vertical-align: middle;\n",
       "    }\n",
       "\n",
       "    .dataframe tbody tr th {\n",
       "        vertical-align: top;\n",
       "    }\n",
       "\n",
       "    .dataframe thead th {\n",
       "        text-align: right;\n",
       "    }\n",
       "</style>\n",
       "<table border=\"1\" class=\"dataframe\">\n",
       "  <thead>\n",
       "    <tr style=\"text-align: right;\">\n",
       "      <th></th>\n",
       "      <th>subject_id</th>\n",
       "      <th>Jitter(local)</th>\n",
       "      <th>Jitter (local_absolute)</th>\n",
       "      <th>Jitter (rap)</th>\n",
       "      <th>Jitter (ppq5)</th>\n",
       "      <th>Jitter (ddp)</th>\n",
       "      <th>Shimmer (local)</th>\n",
       "      <th>Shimmer (local_dB)</th>\n",
       "      <th>Shimmer (apq3)</th>\n",
       "      <th>Shimmer (apq5)</th>\n",
       "      <th>...</th>\n",
       "      <th>Maximum pitch</th>\n",
       "      <th>Number of pulses</th>\n",
       "      <th>Number of periods</th>\n",
       "      <th>Mean period</th>\n",
       "      <th>Standard deviation of period</th>\n",
       "      <th>Fraction of locally unvoiced frames</th>\n",
       "      <th>Number of voice breaks</th>\n",
       "      <th>Degree of voice breaks\\tstatus</th>\n",
       "      <th>UPDRS</th>\n",
       "      <th>status</th>\n",
       "    </tr>\n",
       "  </thead>\n",
       "  <tbody>\n",
       "    <tr>\n",
       "      <th>count</th>\n",
       "      <td>1040.00000</td>\n",
       "      <td>1040.000000</td>\n",
       "      <td>1040.000000</td>\n",
       "      <td>1040.000000</td>\n",
       "      <td>1040.000000</td>\n",
       "      <td>1040.000000</td>\n",
       "      <td>1040.000000</td>\n",
       "      <td>1040.000000</td>\n",
       "      <td>1040.000000</td>\n",
       "      <td>1040.000000</td>\n",
       "      <td>...</td>\n",
       "      <td>1040.000000</td>\n",
       "      <td>1040.000000</td>\n",
       "      <td>1040.000000</td>\n",
       "      <td>1040.000000</td>\n",
       "      <td>1040.000000</td>\n",
       "      <td>1040.000000</td>\n",
       "      <td>1040.000000</td>\n",
       "      <td>1040.000000</td>\n",
       "      <td>1040.000000</td>\n",
       "      <td>1040.000000</td>\n",
       "    </tr>\n",
       "    <tr>\n",
       "      <th>mean</th>\n",
       "      <td>20.50000</td>\n",
       "      <td>2.679523</td>\n",
       "      <td>0.000170</td>\n",
       "      <td>1.247053</td>\n",
       "      <td>1.348327</td>\n",
       "      <td>3.741161</td>\n",
       "      <td>12.918391</td>\n",
       "      <td>1.194895</td>\n",
       "      <td>5.699600</td>\n",
       "      <td>7.983552</td>\n",
       "      <td>...</td>\n",
       "      <td>234.875990</td>\n",
       "      <td>109.744231</td>\n",
       "      <td>105.969231</td>\n",
       "      <td>0.006547</td>\n",
       "      <td>0.000843</td>\n",
       "      <td>27.682856</td>\n",
       "      <td>1.134615</td>\n",
       "      <td>12.370042</td>\n",
       "      <td>13.000000</td>\n",
       "      <td>0.500000</td>\n",
       "    </tr>\n",
       "    <tr>\n",
       "      <th>std</th>\n",
       "      <td>11.54895</td>\n",
       "      <td>1.765053</td>\n",
       "      <td>0.000106</td>\n",
       "      <td>0.979462</td>\n",
       "      <td>1.138742</td>\n",
       "      <td>2.938443</td>\n",
       "      <td>5.452204</td>\n",
       "      <td>0.420071</td>\n",
       "      <td>3.015183</td>\n",
       "      <td>4.840892</td>\n",
       "      <td>...</td>\n",
       "      <td>121.541243</td>\n",
       "      <td>150.027703</td>\n",
       "      <td>149.417074</td>\n",
       "      <td>0.001875</td>\n",
       "      <td>0.000723</td>\n",
       "      <td>20.975294</td>\n",
       "      <td>1.614764</td>\n",
       "      <td>15.161916</td>\n",
       "      <td>15.894745</td>\n",
       "      <td>0.500241</td>\n",
       "    </tr>\n",
       "    <tr>\n",
       "      <th>min</th>\n",
       "      <td>1.00000</td>\n",
       "      <td>0.190000</td>\n",
       "      <td>0.000006</td>\n",
       "      <td>0.062000</td>\n",
       "      <td>0.081000</td>\n",
       "      <td>0.185000</td>\n",
       "      <td>1.185000</td>\n",
       "      <td>0.103000</td>\n",
       "      <td>0.496000</td>\n",
       "      <td>0.708000</td>\n",
       "      <td>...</td>\n",
       "      <td>85.541000</td>\n",
       "      <td>0.000000</td>\n",
       "      <td>0.000000</td>\n",
       "      <td>0.002039</td>\n",
       "      <td>0.000055</td>\n",
       "      <td>0.000000</td>\n",
       "      <td>0.000000</td>\n",
       "      <td>0.000000</td>\n",
       "      <td>1.000000</td>\n",
       "      <td>0.000000</td>\n",
       "    </tr>\n",
       "    <tr>\n",
       "      <th>25%</th>\n",
       "      <td>10.75000</td>\n",
       "      <td>1.507500</td>\n",
       "      <td>0.000095</td>\n",
       "      <td>0.617000</td>\n",
       "      <td>0.665750</td>\n",
       "      <td>1.851750</td>\n",
       "      <td>9.353500</td>\n",
       "      <td>0.941000</td>\n",
       "      <td>3.703000</td>\n",
       "      <td>5.160250</td>\n",
       "      <td>...</td>\n",
       "      <td>143.650750</td>\n",
       "      <td>42.750000</td>\n",
       "      <td>40.750000</td>\n",
       "      <td>0.005039</td>\n",
       "      <td>0.000404</td>\n",
       "      <td>8.149250</td>\n",
       "      <td>0.000000</td>\n",
       "      <td>0.000000</td>\n",
       "      <td>1.000000</td>\n",
       "      <td>0.000000</td>\n",
       "    </tr>\n",
       "    <tr>\n",
       "      <th>50%</th>\n",
       "      <td>20.50000</td>\n",
       "      <td>2.396000</td>\n",
       "      <td>0.000151</td>\n",
       "      <td>1.035500</td>\n",
       "      <td>1.126500</td>\n",
       "      <td>3.107000</td>\n",
       "      <td>12.348500</td>\n",
       "      <td>1.181500</td>\n",
       "      <td>5.134500</td>\n",
       "      <td>7.050500</td>\n",
       "      <td>...</td>\n",
       "      <td>195.971000</td>\n",
       "      <td>65.000000</td>\n",
       "      <td>62.000000</td>\n",
       "      <td>0.006484</td>\n",
       "      <td>0.000644</td>\n",
       "      <td>26.501000</td>\n",
       "      <td>1.000000</td>\n",
       "      <td>5.826000</td>\n",
       "      <td>3.000000</td>\n",
       "      <td>0.500000</td>\n",
       "    </tr>\n",
       "    <tr>\n",
       "      <th>75%</th>\n",
       "      <td>30.25000</td>\n",
       "      <td>3.411500</td>\n",
       "      <td>0.000229</td>\n",
       "      <td>1.602500</td>\n",
       "      <td>1.694750</td>\n",
       "      <td>4.808500</td>\n",
       "      <td>15.493250</td>\n",
       "      <td>1.411000</td>\n",
       "      <td>6.942000</td>\n",
       "      <td>9.558930</td>\n",
       "      <td>...</td>\n",
       "      <td>263.798250</td>\n",
       "      <td>113.000000</td>\n",
       "      <td>109.000000</td>\n",
       "      <td>0.007923</td>\n",
       "      <td>0.000980</td>\n",
       "      <td>43.064250</td>\n",
       "      <td>1.000000</td>\n",
       "      <td>22.255500</td>\n",
       "      <td>23.250000</td>\n",
       "      <td>1.000000</td>\n",
       "    </tr>\n",
       "    <tr>\n",
       "      <th>max</th>\n",
       "      <td>40.00000</td>\n",
       "      <td>14.376000</td>\n",
       "      <td>0.000777</td>\n",
       "      <td>8.016000</td>\n",
       "      <td>13.542000</td>\n",
       "      <td>24.048000</td>\n",
       "      <td>41.137000</td>\n",
       "      <td>2.721000</td>\n",
       "      <td>25.820000</td>\n",
       "      <td>72.860000</td>\n",
       "      <td>...</td>\n",
       "      <td>597.974000</td>\n",
       "      <td>1490.000000</td>\n",
       "      <td>1489.000000</td>\n",
       "      <td>0.012070</td>\n",
       "      <td>0.006371</td>\n",
       "      <td>88.158000</td>\n",
       "      <td>12.000000</td>\n",
       "      <td>69.117000</td>\n",
       "      <td>55.000000</td>\n",
       "      <td>1.000000</td>\n",
       "    </tr>\n",
       "  </tbody>\n",
       "</table>\n",
       "<p>8 rows × 29 columns</p>\n",
       "</div>"
      ],
      "text/plain": [
       "       subject_id  Jitter(local)  Jitter (local_absolute)  Jitter (rap)  \\\n",
       "count  1040.00000    1040.000000              1040.000000   1040.000000   \n",
       "mean     20.50000       2.679523                 0.000170      1.247053   \n",
       "std      11.54895       1.765053                 0.000106      0.979462   \n",
       "min       1.00000       0.190000                 0.000006      0.062000   \n",
       "25%      10.75000       1.507500                 0.000095      0.617000   \n",
       "50%      20.50000       2.396000                 0.000151      1.035500   \n",
       "75%      30.25000       3.411500                 0.000229      1.602500   \n",
       "max      40.00000      14.376000                 0.000777      8.016000   \n",
       "\n",
       "       Jitter (ppq5)  Jitter (ddp)  Shimmer (local)  Shimmer (local_dB)  \\\n",
       "count    1040.000000   1040.000000      1040.000000         1040.000000   \n",
       "mean        1.348327      3.741161        12.918391            1.194895   \n",
       "std         1.138742      2.938443         5.452204            0.420071   \n",
       "min         0.081000      0.185000         1.185000            0.103000   \n",
       "25%         0.665750      1.851750         9.353500            0.941000   \n",
       "50%         1.126500      3.107000        12.348500            1.181500   \n",
       "75%         1.694750      4.808500        15.493250            1.411000   \n",
       "max        13.542000     24.048000        41.137000            2.721000   \n",
       "\n",
       "       Shimmer (apq3)  Shimmer (apq5)  ...  Maximum pitch  Number of pulses  \\\n",
       "count     1040.000000     1040.000000  ...    1040.000000       1040.000000   \n",
       "mean         5.699600        7.983552  ...     234.875990        109.744231   \n",
       "std          3.015183        4.840892  ...     121.541243        150.027703   \n",
       "min          0.496000        0.708000  ...      85.541000          0.000000   \n",
       "25%          3.703000        5.160250  ...     143.650750         42.750000   \n",
       "50%          5.134500        7.050500  ...     195.971000         65.000000   \n",
       "75%          6.942000        9.558930  ...     263.798250        113.000000   \n",
       "max         25.820000       72.860000  ...     597.974000       1490.000000   \n",
       "\n",
       "       Number of periods  Mean period  Standard deviation of period  \\\n",
       "count        1040.000000  1040.000000                   1040.000000   \n",
       "mean          105.969231     0.006547                      0.000843   \n",
       "std           149.417074     0.001875                      0.000723   \n",
       "min             0.000000     0.002039                      0.000055   \n",
       "25%            40.750000     0.005039                      0.000404   \n",
       "50%            62.000000     0.006484                      0.000644   \n",
       "75%           109.000000     0.007923                      0.000980   \n",
       "max          1489.000000     0.012070                      0.006371   \n",
       "\n",
       "       Fraction of locally unvoiced frames  Number of voice breaks  \\\n",
       "count                          1040.000000             1040.000000   \n",
       "mean                             27.682856                1.134615   \n",
       "std                              20.975294                1.614764   \n",
       "min                               0.000000                0.000000   \n",
       "25%                               8.149250                0.000000   \n",
       "50%                              26.501000                1.000000   \n",
       "75%                              43.064250                1.000000   \n",
       "max                              88.158000               12.000000   \n",
       "\n",
       "       Degree of voice breaks\\tstatus        UPDRS       status  \n",
       "count                     1040.000000  1040.000000  1040.000000  \n",
       "mean                        12.370042    13.000000     0.500000  \n",
       "std                         15.161916    15.894745     0.500241  \n",
       "min                          0.000000     1.000000     0.000000  \n",
       "25%                          0.000000     1.000000     0.000000  \n",
       "50%                          5.826000     3.000000     0.500000  \n",
       "75%                         22.255500    23.250000     1.000000  \n",
       "max                         69.117000    55.000000     1.000000  \n",
       "\n",
       "[8 rows x 29 columns]"
      ]
     },
     "execution_count": 267,
     "metadata": {},
     "output_type": "execute_result"
    }
   ],
   "source": [
    "# getting some statistical measures about the data\n",
    "parkinsons_data.describe()"
   ]
  },
  {
   "cell_type": "code",
   "execution_count": 268,
   "metadata": {
    "colab": {
     "base_uri": "https://localhost:8080/"
    },
    "id": "nYOc_bRrDMlT",
    "outputId": "5c4db0b9-5958-4db1-ea88-8170f20c2641"
   },
   "outputs": [
    {
     "data": {
      "text/plain": [
       "1    520\n",
       "0    520\n",
       "Name: status, dtype: int64"
      ]
     },
     "execution_count": 268,
     "metadata": {},
     "output_type": "execute_result"
    }
   ],
   "source": [
    "# distribution of target Variable\n",
    "parkinsons_data['status'].value_counts()"
   ]
  },
  {
   "cell_type": "code",
   "execution_count": 269,
   "metadata": {
    "colab": {
     "base_uri": "https://localhost:8080/",
     "height": 306
    },
    "id": "GRCDAhr6DVBv",
    "outputId": "99596d7b-c659-44f1-c72f-7327b4e98a10"
   },
   "outputs": [
    {
     "data": {
      "text/html": [
       "<div>\n",
       "<style scoped>\n",
       "    .dataframe tbody tr th:only-of-type {\n",
       "        vertical-align: middle;\n",
       "    }\n",
       "\n",
       "    .dataframe tbody tr th {\n",
       "        vertical-align: top;\n",
       "    }\n",
       "\n",
       "    .dataframe thead th {\n",
       "        text-align: right;\n",
       "    }\n",
       "</style>\n",
       "<table border=\"1\" class=\"dataframe\">\n",
       "  <thead>\n",
       "    <tr style=\"text-align: right;\">\n",
       "      <th></th>\n",
       "      <th>subject_id</th>\n",
       "      <th>Jitter(local)</th>\n",
       "      <th>Jitter (local_absolute)</th>\n",
       "      <th>Jitter (rap)</th>\n",
       "      <th>Jitter (ppq5)</th>\n",
       "      <th>Jitter (ddp)</th>\n",
       "      <th>Shimmer (local)</th>\n",
       "      <th>Shimmer (local_dB)</th>\n",
       "      <th>Shimmer (apq3)</th>\n",
       "      <th>Shimmer (apq5)</th>\n",
       "      <th>...</th>\n",
       "      <th>Minimum pitch</th>\n",
       "      <th>Maximum pitch</th>\n",
       "      <th>Number of pulses</th>\n",
       "      <th>Number of periods</th>\n",
       "      <th>Mean period</th>\n",
       "      <th>Standard deviation of period</th>\n",
       "      <th>Fraction of locally unvoiced frames</th>\n",
       "      <th>Number of voice breaks</th>\n",
       "      <th>Degree of voice breaks\\tstatus</th>\n",
       "      <th>UPDRS</th>\n",
       "    </tr>\n",
       "    <tr>\n",
       "      <th>status</th>\n",
       "      <th></th>\n",
       "      <th></th>\n",
       "      <th></th>\n",
       "      <th></th>\n",
       "      <th></th>\n",
       "      <th></th>\n",
       "      <th></th>\n",
       "      <th></th>\n",
       "      <th></th>\n",
       "      <th></th>\n",
       "      <th></th>\n",
       "      <th></th>\n",
       "      <th></th>\n",
       "      <th></th>\n",
       "      <th></th>\n",
       "      <th></th>\n",
       "      <th></th>\n",
       "      <th></th>\n",
       "      <th></th>\n",
       "      <th></th>\n",
       "      <th></th>\n",
       "    </tr>\n",
       "  </thead>\n",
       "  <tbody>\n",
       "    <tr>\n",
       "      <th>0</th>\n",
       "      <td>30.5</td>\n",
       "      <td>2.507421</td>\n",
       "      <td>0.000153</td>\n",
       "      <td>1.138244</td>\n",
       "      <td>1.222062</td>\n",
       "      <td>3.414746</td>\n",
       "      <td>12.869006</td>\n",
       "      <td>1.183479</td>\n",
       "      <td>5.754319</td>\n",
       "      <td>8.092812</td>\n",
       "      <td>...</td>\n",
       "      <td>137.318069</td>\n",
       "      <td>251.810481</td>\n",
       "      <td>103.590385</td>\n",
       "      <td>98.934615</td>\n",
       "      <td>0.006393</td>\n",
       "      <td>0.000885</td>\n",
       "      <td>30.241529</td>\n",
       "      <td>1.263462</td>\n",
       "      <td>14.281812</td>\n",
       "      <td>1.0</td>\n",
       "    </tr>\n",
       "    <tr>\n",
       "      <th>1</th>\n",
       "      <td>10.5</td>\n",
       "      <td>2.851624</td>\n",
       "      <td>0.000188</td>\n",
       "      <td>1.355861</td>\n",
       "      <td>1.474592</td>\n",
       "      <td>4.067577</td>\n",
       "      <td>12.967775</td>\n",
       "      <td>1.206312</td>\n",
       "      <td>5.644882</td>\n",
       "      <td>7.874292</td>\n",
       "      <td>...</td>\n",
       "      <td>131.758132</td>\n",
       "      <td>217.941499</td>\n",
       "      <td>115.898077</td>\n",
       "      <td>113.003846</td>\n",
       "      <td>0.006700</td>\n",
       "      <td>0.000800</td>\n",
       "      <td>25.124183</td>\n",
       "      <td>1.005769</td>\n",
       "      <td>10.458273</td>\n",
       "      <td>25.0</td>\n",
       "    </tr>\n",
       "  </tbody>\n",
       "</table>\n",
       "<p>2 rows × 28 columns</p>\n",
       "</div>"
      ],
      "text/plain": [
       "        subject_id  Jitter(local)  Jitter (local_absolute)  Jitter (rap)  \\\n",
       "status                                                                     \n",
       "0             30.5       2.507421                 0.000153      1.138244   \n",
       "1             10.5       2.851624                 0.000188      1.355861   \n",
       "\n",
       "        Jitter (ppq5)  Jitter (ddp)  Shimmer (local)  Shimmer (local_dB)  \\\n",
       "status                                                                     \n",
       "0            1.222062      3.414746        12.869006            1.183479   \n",
       "1            1.474592      4.067577        12.967775            1.206312   \n",
       "\n",
       "        Shimmer (apq3)  Shimmer (apq5)  ...  Minimum pitch  Maximum pitch  \\\n",
       "status                                  ...                                 \n",
       "0             5.754319        8.092812  ...     137.318069     251.810481   \n",
       "1             5.644882        7.874292  ...     131.758132     217.941499   \n",
       "\n",
       "        Number of pulses  Number of periods  Mean period  \\\n",
       "status                                                     \n",
       "0             103.590385          98.934615     0.006393   \n",
       "1             115.898077         113.003846     0.006700   \n",
       "\n",
       "        Standard deviation of period  Fraction of locally unvoiced frames  \\\n",
       "status                                                                      \n",
       "0                           0.000885                            30.241529   \n",
       "1                           0.000800                            25.124183   \n",
       "\n",
       "        Number of voice breaks  Degree of voice breaks\\tstatus  UPDRS  \n",
       "status                                                                 \n",
       "0                     1.263462                       14.281812    1.0  \n",
       "1                     1.005769                       10.458273   25.0  \n",
       "\n",
       "[2 rows x 28 columns]"
      ]
     },
     "execution_count": 269,
     "metadata": {},
     "output_type": "execute_result"
    }
   ],
   "source": [
    "# grouping the data bas3ed on the target variable\n",
    "parkinsons_data.groupby('status').mean()"
   ]
  },
  {
   "cell_type": "code",
   "execution_count": 270,
   "metadata": {
    "id": "wNP2FstvDVui"
   },
   "outputs": [],
   "source": [
    "X = parkinsons_data.drop(columns=['subject_id','status'], axis=1)\n",
    "Y = parkinsons_data['status']"
   ]
  },
  {
   "cell_type": "code",
   "execution_count": 271,
   "metadata": {
    "colab": {
     "base_uri": "https://localhost:8080/"
    },
    "id": "ftyiHKi-Dgla",
    "outputId": "4dfbddcf-6ff6-45da-caef-b5b6f90e50b6"
   },
   "outputs": [
    {
     "name": "stdout",
     "output_type": "stream",
     "text": [
      "0       1\n",
      "1       1\n",
      "2       1\n",
      "3       1\n",
      "4       1\n",
      "       ..\n",
      "1035    0\n",
      "1036    0\n",
      "1037    0\n",
      "1038    0\n",
      "1039    0\n",
      "Name: status, Length: 1040, dtype: int64\n"
     ]
    }
   ],
   "source": [
    "print(Y)"
   ]
  },
  {
   "cell_type": "code",
   "execution_count": 272,
   "metadata": {
    "id": "Zh1MwUSNDaWn"
   },
   "outputs": [],
   "source": [
    "X_train, X_test, Y_train, Y_test = train_test_split(X, Y, test_size=0.2, random_state=0)"
   ]
  },
  {
   "cell_type": "code",
   "execution_count": 273,
   "metadata": {
    "colab": {
     "base_uri": "https://localhost:8080/"
    },
    "id": "d3NnfKEyDlPc",
    "outputId": "d7018aff-ed4f-44e3-a828-4b8e98498215"
   },
   "outputs": [
    {
     "name": "stdout",
     "output_type": "stream",
     "text": [
      "(1040, 27) (832, 27) (208, 27)\n"
     ]
    }
   ],
   "source": [
    "print(X.shape, X_train.shape, X_test.shape)"
   ]
  },
  {
   "cell_type": "code",
   "execution_count": 274,
   "metadata": {
    "id": "-1O2wG_kDn0F",
    "scrolled": true
   },
   "outputs": [
    {
     "name": "stdout",
     "output_type": "stream",
     "text": [
      "0.8221153846153846\n",
      "0.8064903846153846\n"
     ]
    }
   ],
   "source": [
    "# Support vector classifier\n",
    "svc_classifier = SVC()\n",
    "svc_classifier.fit(X_train, Y_train)\n",
    "X_train_prediction=svc_classifier.predict(X_train)\n",
    "y_pred_scv = svc_classifier.predict(X_test)\n",
    "print(accuracy_score(Y_test, y_pred_scv))\n",
    "print(accuracy_score(Y_train,X_train_prediction))"
   ]
  },
  {
   "cell_type": "code",
   "execution_count": null,
   "metadata": {
    "colab": {
     "base_uri": "https://localhost:8080/"
    },
    "id": "ZkXdNeRTD-jl",
    "outputId": "a5f350e7-97c6-46df-c27d-bd4c246bf024"
   },
   "outputs": [],
   "source": []
  },
  {
   "cell_type": "code",
   "execution_count": null,
   "metadata": {
    "id": "ELSlgTGrENIy"
   },
   "outputs": [],
   "source": []
  },
  {
   "cell_type": "code",
   "execution_count": 275,
   "metadata": {
    "colab": {
     "base_uri": "https://localhost:8080/"
    },
    "id": "mjqN8rBpERQL",
    "outputId": "128b1ff5-40ed-4df7-e896-5f81f4d59b62",
    "scrolled": true
   },
   "outputs": [],
   "source": [
    "# print(X_train)"
   ]
  },
  {
   "cell_type": "code",
   "execution_count": 276,
   "metadata": {},
   "outputs": [],
   "source": [
    "# scores=cross_val_score(model,X_train,Y_train,cv=10)\n",
    "# print(scores)"
   ]
  },
  {
   "cell_type": "code",
   "execution_count": 277,
   "metadata": {
    "scrolled": true
   },
   "outputs": [
    {
     "name": "stdout",
     "output_type": "stream",
     "text": [
      "[0]\n"
     ]
    }
   ],
   "source": [
    "example_measures = [[1.809,0.00014851,0.68,0.843,2.04,7.881,0.782,2.69,4.543,11.073,8.069,0.925554,0.097481,13.472,119.26,121.63,8.028,108.144,137.546,62,60,0.008211245,0.000565813,18.182,1,3.387,1]]\n",
    "prediction = model.predict(example_measures)\n",
    "print(prediction)"
   ]
  },
  {
   "cell_type": "code",
   "execution_count": 278,
   "metadata": {},
   "outputs": [],
   "source": [
    "# print(X_train_prediction)\n",
    "# print(y_pred_scv)"
   ]
  },
  {
   "cell_type": "code",
   "execution_count": 279,
   "metadata": {},
   "outputs": [
    {
     "name": "stdout",
     "output_type": "stream",
     "text": [
      "1.0\n",
      "1.0\n"
     ]
    }
   ],
   "source": [
    "# XGBoost Classifier\n",
    "from xgboost import XGBClassifier\n",
    "xgb_classifier = XGBClassifier()\n",
    "xgb_classifier.fit(X_train, Y_train)\n",
    "y_pred_xgb = xgb_classifier.predict(X_test)\n",
    "xgb_train_prediction=xgb_classifier.predict(X_train)\n",
    "print(accuracy_score(Y_test, y_pred_xgb))\n",
    "print(accuracy_score(Y_train,xgb_train_prediction))"
   ]
  },
  {
   "cell_type": "code",
   "execution_count": 280,
   "metadata": {
    "scrolled": true
   },
   "outputs": [
    {
     "name": "stdout",
     "output_type": "stream",
     "text": [
      "631     0\n",
      "679     0\n",
      "364     1\n",
      "319     1\n",
      "487     1\n",
      "723     0\n",
      "483     1\n",
      "954     0\n",
      "251     1\n",
      "270     1\n",
      "75      1\n",
      "671     0\n",
      "678     0\n",
      "320     1\n",
      "367     1\n",
      "294     1\n",
      "856     0\n",
      "689     0\n",
      "506     1\n",
      "530     0\n",
      "1       1\n",
      "27      1\n",
      "531     0\n",
      "31      1\n",
      "513     1\n",
      "546     0\n",
      "962     0\n",
      "851     0\n",
      "380     1\n",
      "312     1\n",
      "331     1\n",
      "943     0\n",
      "18      1\n",
      "918     0\n",
      "809     0\n",
      "865     0\n",
      "518     1\n",
      "1015    0\n",
      "295     1\n",
      "403     1\n",
      "278     1\n",
      "214     1\n",
      "613     0\n",
      "862     0\n",
      "122     1\n",
      "317     1\n",
      "561     0\n",
      "14      1\n",
      "15      1\n",
      "142     1\n",
      "Name: status, dtype: int64\n",
      "[0 0 1 1 1 0 1 0 1 1 1 0 0 1 1 1 0 0 1 0 1 1 0 1 1 0 0 0 1 1 1 0 1 0 0 0 1\n",
      " 0 1 1 1 1 0 0 1 1 0 1 1 1 0 1 1 1 1 1 1 0 1 0 1 1 0 1 1 1 0 0 0 0 0 1 0 0\n",
      " 1 0 1 1 1 0 0 0 1 1 0 1 0 0 0 0 0 1 0 0 0 1 1 1 1 1 0 0 1 1 1 0 1 1 1 0 0\n",
      " 1 1 0 1 0 0 0 1 0 0 1 0 0 0 1 0 0 1 0 1 0 0 0 0 1 0 0 1 1 0 0 0 0 0 1 1 1\n",
      " 1 1 1 1 0 0 0 1 0 0 0 1 0 0 1 1 1 0 0 1 1 1 1 0 1 1 0 0 1 1 1 1 1 0 0 0 0\n",
      " 1 0 0 0 0 0 0 0 0 1 0 0 0 0 0 1 1 0 0 1 0 1 0]\n"
     ]
    }
   ],
   "source": [
    "print(Y_test.head(50))\n",
    "print(y_pred_xgb)"
   ]
  },
  {
   "cell_type": "code",
   "execution_count": 281,
   "metadata": {},
   "outputs": [
    {
     "name": "stdout",
     "output_type": "stream",
     "text": [
      "[1]\n"
     ]
    }
   ],
   "source": [
    "example_measures2 = [[1.488,0.000090213,0.9,0.794,2.699,8.334,0.779,4.517,4.609,6.802,13.551,0.905905,0.119116,11.13,166.533,164.781,10.421,142.229,187.576,160,159,0.006064725,0.000416276,0,0,0,23]]\n",
    "prediction2 = model.predict(example_measures2)\n",
    "print(prediction2)"
   ]
  },
  {
   "cell_type": "code",
   "execution_count": 282,
   "metadata": {},
   "outputs": [
    {
     "name": "stdout",
     "output_type": "stream",
     "text": [
      "[[107   0]\n",
      " [  0 101]]\n"
     ]
    }
   ],
   "source": [
    "confusion_matrix_xgb=confusion_matrix(Y_test, y_pred_xgb)\n",
    "print(confusion_matrix_xgb)\n"
   ]
  },
  {
   "cell_type": "code",
   "execution_count": 283,
   "metadata": {},
   "outputs": [
    {
     "name": "stdout",
     "output_type": "stream",
     "text": [
      "              precision    recall  f1-score   support\n",
      "\n",
      "           0       1.00      1.00      1.00       107\n",
      "           1       1.00      1.00      1.00       101\n",
      "\n",
      "    accuracy                           1.00       208\n",
      "   macro avg       1.00      1.00      1.00       208\n",
      "weighted avg       1.00      1.00      1.00       208\n",
      "\n"
     ]
    }
   ],
   "source": [
    "print(classification_report(Y_test, y_pred_xgb))"
   ]
  },
  {
   "cell_type": "code",
   "execution_count": null,
   "metadata": {},
   "outputs": [],
   "source": []
  },
  {
   "cell_type": "code",
   "execution_count": 284,
   "metadata": {},
   "outputs": [],
   "source": [
    "## Pickle\n",
    "import pickle\n",
    " \n",
    "# save model\n",
    "pickle.dump(xgb_classifier, open('parkinsons_disease_detector.pkl', 'wb'))\n",
    " \n",
    "# load model\n",
    "parkinsons_disease_detector_model = pickle.load(open('parkinsons_disease_detector.pkl', 'rb'))\n",
    " \n",
    "# predict the output\n",
    "Y_pred = parkinsons_disease_detector_model.predict(X_test)\n",
    " "
   ]
  }
 ],
 "metadata": {
  "colab": {
   "name": "PW-4_demo",
   "provenance": []
  },
  "kernelspec": {
   "display_name": "Python 3 (ipykernel)",
   "language": "python",
   "name": "python3"
  },
  "language_info": {
   "codemirror_mode": {
    "name": "ipython",
    "version": 3
   },
   "file_extension": ".py",
   "mimetype": "text/x-python",
   "name": "python",
   "nbconvert_exporter": "python",
   "pygments_lexer": "ipython3",
   "version": "3.9.7"
  }
 },
 "nbformat": 4,
 "nbformat_minor": 1
}
